{
 "cells": [
  {
   "cell_type": "markdown",
   "id": "f1a0a759-bed3-4ee0-962c-8cbd04229332",
   "metadata": {},
   "source": [
    "# Practical 1: Morphology is the study of the way words are built up from smaller meaning bearing units"
   ]
  },
  {
   "cell_type": "code",
   "execution_count": 1,
   "id": "9a71b7c3-3eda-49c9-899e-c4b586d1c555",
   "metadata": {},
   "outputs": [],
   "source": [
    "import nltk\n",
    "from nltk.stem import PorterStemmer\n",
    "from nltk.stem import WordNetLemmatizer\n",
    "from nltk.tokenize import word_tokenize"
   ]
  },
  {
   "cell_type": "code",
   "execution_count": 2,
   "id": "7a7a4fe5-d2c8-4878-9889-d6d861c775e9",
   "metadata": {},
   "outputs": [
    {
     "name": "stderr",
     "output_type": "stream",
     "text": [
      "[nltk_data] Downloading package wordnet to\n",
      "[nltk_data]     C:\\Users\\jassh\\AppData\\Roaming\\nltk_data...\n",
      "[nltk_data]   Package wordnet is already up-to-date!\n",
      "[nltk_data] Downloading package omw-1.4 to\n",
      "[nltk_data]     C:\\Users\\jassh\\AppData\\Roaming\\nltk_data...\n",
      "[nltk_data]   Package omw-1.4 is already up-to-date!\n",
      "[nltk_data] Downloading package punkt to\n",
      "[nltk_data]     C:\\Users\\jassh\\AppData\\Roaming\\nltk_data...\n",
      "[nltk_data]   Package punkt is already up-to-date!\n"
     ]
    },
    {
     "data": {
      "text/plain": [
       "True"
      ]
     },
     "execution_count": 2,
     "metadata": {},
     "output_type": "execute_result"
    }
   ],
   "source": [
    "nltk.download('wordnet')\n",
    "nltk.download('omw-1.4')\n",
    "nltk.download('punkt')"
   ]
  },
  {
   "cell_type": "code",
   "execution_count": 3,
   "id": "ceb9b86c-92e6-4241-9dac-efa70a1fbdee",
   "metadata": {},
   "outputs": [],
   "source": [
    "stemmer = PorterStemmer()\n",
    "lemmatizer = WordNetLemmatizer()"
   ]
  },
  {
   "cell_type": "code",
   "execution_count": 4,
   "id": "18a91a95-ba3a-4aee-8a6c-9b8357487537",
   "metadata": {},
   "outputs": [],
   "source": [
    "text = \"The studies of the running wolves were surprising and better than those of the flying foxes.\""
   ]
  },
  {
   "cell_type": "code",
   "execution_count": 5,
   "id": "2447291f-66f4-4309-888c-64f37580084e",
   "metadata": {},
   "outputs": [
    {
     "name": "stdout",
     "output_type": "stream",
     "text": [
      "Tokenized Words: ['The', 'studies', 'of', 'the', 'running', 'wolves', 'were', 'surprising', 'and', 'better', 'than', 'those', 'of', 'the', 'flying', 'foxes', '.']\n"
     ]
    }
   ],
   "source": [
    "words = word_tokenize(text)\n",
    "print(\"Tokenized Words:\", words)"
   ]
  },
  {
   "cell_type": "code",
   "execution_count": 6,
   "id": "687d2a6a-e86b-436a-baac-09d5e78b830a",
   "metadata": {},
   "outputs": [
    {
     "name": "stdout",
     "output_type": "stream",
     "text": [
      "Morphological Analysis using NLTK:\n",
      "----------------------------------\n",
      "Word: The\n",
      "Stemmed: the\n",
      "Lemmatized: The\n",
      "\n",
      "Word: studies\n",
      "Stemmed: studi\n",
      "Lemmatized: study\n",
      "\n",
      "Word: of\n",
      "Stemmed: of\n",
      "Lemmatized: of\n",
      "\n",
      "Word: the\n",
      "Stemmed: the\n",
      "Lemmatized: the\n",
      "\n",
      "Word: running\n",
      "Stemmed: run\n",
      "Lemmatized: running\n",
      "\n",
      "Word: wolves\n",
      "Stemmed: wolv\n",
      "Lemmatized: wolf\n",
      "\n",
      "Word: were\n",
      "Stemmed: were\n",
      "Lemmatized: were\n",
      "\n",
      "Word: surprising\n",
      "Stemmed: surpris\n",
      "Lemmatized: surprising\n",
      "\n",
      "Word: and\n",
      "Stemmed: and\n",
      "Lemmatized: and\n",
      "\n",
      "Word: better\n",
      "Stemmed: better\n",
      "Lemmatized: better\n",
      "\n",
      "Word: than\n",
      "Stemmed: than\n",
      "Lemmatized: than\n",
      "\n",
      "Word: those\n",
      "Stemmed: those\n",
      "Lemmatized: those\n",
      "\n",
      "Word: of\n",
      "Stemmed: of\n",
      "Lemmatized: of\n",
      "\n",
      "Word: the\n",
      "Stemmed: the\n",
      "Lemmatized: the\n",
      "\n",
      "Word: flying\n",
      "Stemmed: fli\n",
      "Lemmatized: flying\n",
      "\n",
      "Word: foxes\n",
      "Stemmed: fox\n",
      "Lemmatized: fox\n",
      "\n",
      "Word: .\n",
      "Stemmed: .\n",
      "Lemmatized: .\n",
      "\n"
     ]
    }
   ],
   "source": [
    "print(\"Morphological Analysis using NLTK:\")\n",
    "print(\"----------------------------------\")\n",
    "\n",
    "for word in words:\n",
    "    stemmed = stemmer.stem(word)\n",
    "\n",
    "    lemmatized = lemmatizer.lemmatize(word)\n",
    "\n",
    "    print(f\"Word: {word}\")\n",
    "    print(f\"Stemmed: {stemmed}\")\n",
    "    print(f\"Lemmatized: {lemmatized}\")\n",
    "    print()"
   ]
  }
 ],
 "metadata": {
  "kernelspec": {
   "display_name": "Python 3 (ipykernel)",
   "language": "python",
   "name": "python3"
  },
  "language_info": {
   "codemirror_mode": {
    "name": "ipython",
    "version": 3
   },
   "file_extension": ".py",
   "mimetype": "text/x-python",
   "name": "python",
   "nbconvert_exporter": "python",
   "pygments_lexer": "ipython3",
   "version": "3.12.1"
  }
 },
 "nbformat": 4,
 "nbformat_minor": 5
}
